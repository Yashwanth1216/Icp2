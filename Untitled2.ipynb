{
  "nbformat": 4,
  "nbformat_minor": 0,
  "metadata": {
    "colab": {
      "provenance": []
    },
    "kernelspec": {
      "name": "python3",
      "display_name": "Python 3"
    },
    "language_info": {
      "name": "python"
    }
  },
  "cells": [
    {
      "cell_type": "code",
      "execution_count": null,
      "metadata": {
        "colab": {
          "base_uri": "https://localhost:8080/"
        },
        "id": "10xdMTqfszAq",
        "outputId": "bd1753b9-cef6-421f-b13f-e82d1b8462f6"
      },
      "outputs": [
        {
          "output_type": "stream",
          "name": "stdout",
          "text": [
            "Employee: Yash, Department: HR, Salary: 70000\n",
            "Employee: Kali, Department: Project Manager, Salary: 60000\n",
            "Fulltime Employee: Kaushik, Department: IT, Salary: 80000\n",
            "Fulltime Employee: prem, Department: Team Lead, Salary: 80000\n",
            "Average Salary of Employees: 72500.0\n",
            "Number of Employees: 4\n",
            "Average Salary of Fulltime Employees: 80000.0\n",
            "Number of Fulltime Employees: 2\n"
          ]
        }
      ],
      "source": [
        "\n",
        "  class Employee:\n",
        "    employee_count = 0\n",
        "    total_salary = 0\n",
        "\n",
        "    def __init__(self, name, family, salary, department):\n",
        "        self.name = name\n",
        "        self.family = family\n",
        "        self.salary = salary\n",
        "        self.department = department\n",
        "        Employee.employee_count += 1\n",
        "        Employee.total_salary += salary\n",
        "\n",
        "    @classmethod\n",
        "    def average_salary(cls):\n",
        "        if cls.employee_count > 0:\n",
        "            return cls.total_salary / cls.employee_count\n",
        "        return 0\n",
        "\n",
        "    def display_employee(self):\n",
        "        return f\"Employee: {self.name}, Department: {self.department}, Salary: {self.salary}\"\n",
        "\n",
        "class FulltimeEmployee(Employee):\n",
        "    ft_employee_count = 0\n",
        "    ft_total_salary = 0\n",
        "\n",
        "    def __init__(self, name, family, salary, department):\n",
        "        super().__init__(name, family, salary, department)\n",
        "        FulltimeEmployee.ft_employee_count += 1\n",
        "        FulltimeEmployee.ft_total_salary += salary\n",
        "\n",
        "    @classmethod\n",
        "    def average_salary(cls):\n",
        "        if cls.ft_employee_count > 0:\n",
        "            return cls.ft_total_salary / cls.ft_employee_count\n",
        "        return 0\n",
        "\n",
        "    def display_employee(self):\n",
        "        return f\"Fulltime Employee: {self.name}, Department: {self.department}, Salary: {self.salary}\"\n",
        "\n",
        "# Creating instances\n",
        "emp1 = Employee(\"Yash\", \"Bal\", 70000, \"HR\")\n",
        "emp2 = Employee(\"Kali\", \"Doe\", 60000, \"Project Manager\")\n",
        "ft_emp1 = FulltimeEmployee(\"Kaushik\", \"Sriram\", 80000, \"IT\")\n",
        "ft_emp2 = FulltimeEmployee(\"prem\", \"Jones\", 80000, \"Team Lead\")\n",
        "\n",
        "# Displaying information\n",
        "print(emp1.display_employee())\n",
        "print(emp2.display_employee())\n",
        "print(ft_emp1.display_employee())\n",
        "print(ft_emp2.display_employee())\n",
        "\n",
        "# Displaying average salaries and counts\n",
        "print(f\"Average Salary of Employees: {Employee.average_salary()}\")\n",
        "print(f\"Number of Employees: {Employee.employee_count}\")\n",
        "print(f\"Average Salary of Fulltime Employees: {FulltimeEmployee.average_salary()}\")\n",
        "print(f\"Number of Fulltime Employees: {FulltimeEmployee.ft_employee_count}\")\n"
      ]
    },
    {
      "cell_type": "code",
      "source": [
        "import numpy as np\n",
        "\n",
        "# Create random vector of size 20 with floats in the range 1-20\n",
        "random_vector = np.random.uniform(1, 20, 20)\n",
        "\n",
        "# Reshape the array to 4 by 5\n",
        "reshaped_array = random_vector.reshape(4, 5)\n",
        "\n",
        "# Iterate over each row and replace the maximum value with 0\n",
        "for i in range(reshaped_array.shape[0]):\n",
        "    reshaped_array[i, np.argmax(reshaped_array[i])] = 0\n",
        "\n",
        "reshaped_array\n"
      ],
      "metadata": {
        "colab": {
          "base_uri": "https://localhost:8080/"
        },
        "id": "tgB_wvu_vUnX",
        "outputId": "6ce29a84-a0aa-4649-9b2c-880d97445ea4"
      },
      "execution_count": null,
      "outputs": [
        {
          "output_type": "execute_result",
          "data": {
            "text/plain": [
              "array([[ 2.65033542,  1.3701247 ,  0.        ,  1.45054722,  9.97381032],\n",
              "       [10.35997524,  5.71039758, 15.78421693, 12.5223365 ,  0.        ],\n",
              "       [ 2.65281812,  7.45203573, 15.58787782, 13.7619869 ,  0.        ],\n",
              "       [ 6.68874181,  0.        , 12.05409449,  9.35021058,  5.71651279]])"
            ]
          },
          "metadata": {},
          "execution_count": 15
        }
      ]
    }
  ]
}